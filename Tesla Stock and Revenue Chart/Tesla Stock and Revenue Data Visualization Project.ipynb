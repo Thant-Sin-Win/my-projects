{
 "cells": [
  {
   "cell_type": "markdown",
   "id": "c512aee8-4adc-41e9-a295-305fb6981ca8",
   "metadata": {},
   "source": [
    "Tesla Stock and Revenue Data Visualization Project\n",
    "\n",
    "Project Objective\n",
    "The goal of this project is to extract Tesla Inc. (TSLA) historical stock and revenue data using two different methods and then visualize the data using interactive plots.\n",
    "\n",
    "We will:\n",
    "\n",
    "Use the yfinance library to extract Tesla’s historical stock data.\n",
    "\n",
    "Use web scraping techniques with BeautifulSoup to extract Tesla’s historical revenue data from a webpage.\n",
    "\n",
    "Combine both datasets into a single graph to compare Tesla’s share price and revenue over time."
   ]
  },
  {
   "cell_type": "code",
   "execution_count": null,
   "id": "bf4d658a-e854-4def-ad71-a723aff4addc",
   "metadata": {},
   "outputs": [],
   "source": [
    "# Tools and Libraries Used\n",
    "# Before we begin, let's install the necessary libraries (if not already installed):\n",
    "!pip install yfinance\n",
    "!pip install bs4\n",
    "!pip install nbformat\n",
    "!pip install --upgrade plotly"
   ]
  },
  {
   "cell_type": "code",
   "execution_count": null,
   "id": "42d3c367-0dbb-4c8c-a402-22ad7266daaa",
   "metadata": {},
   "outputs": [],
   "source": [
    "import yfinance as yf\n",
    "import pandas as pd\n",
    "import requests\n",
    "from bs4 import BeautifulSoup\n",
    "import plotly.graph_objects as go\n",
    "from plotly.subplots import make_subplots"
   ]
  },
  {
   "cell_type": "code",
   "execution_count": null,
   "id": "a97deb33-9911-473b-a332-bc5a19f0be6c",
   "metadata": {},
   "outputs": [],
   "source": [
    "#Set default renderer for Plotly and suppress warnings\n",
    "import plotly.io as pio\n",
    "pio.renderers.default = \"iframe\""
   ]
  },
  {
   "cell_type": "code",
   "execution_count": null,
   "id": "1c557e51-3407-48f5-b348-17094d7cd67a",
   "metadata": {},
   "outputs": [],
   "source": [
    "import warnings\n",
    "# Ignore all warnings\n",
    "warnings.filterwarnings(\"ignore\", category=FutureWarning)"
   ]
  },
  {
   "cell_type": "code",
   "execution_count": null,
   "id": "7a35eb9b-a630-4e26-bf15-dafb462bc99b",
   "metadata": {},
   "outputs": [],
   "source": [
    "#We'll define a helper function to plot Tesla’s share price and revenue on a two-row subplot.\n",
    "def make_graph(stock_data, revenue_data, stock):\n",
    "    fig = make_subplots(rows=2, cols=1, shared_xaxes=True, subplot_titles=(\"Historical Share Price\", \"Historical Revenue\"), vertical_spacing = .3)\n",
    "    stock_data_specific = stock_data[stock_data.Date <= '2021-06-14']\n",
    "    revenue_data_specific = revenue_data[revenue_data.Date <= '2021-04-30']\n",
    "    fig.add_trace(go.Scatter(x=pd.to_datetime(stock_data_specific.Date, infer_datetime_format=True), y=stock_data_specific.Close.astype(\"float\"), name=\"Share Price\"), row=1, col=1)\n",
    "    fig.add_trace(go.Scatter(x=pd.to_datetime(revenue_data_specific.Date, infer_datetime_format=True), y=revenue_data_specific.Revenue.astype(\"float\"), name=\"Revenue\"), row=2, col=1)\n",
    "    fig.update_xaxes(title_text=\"Date\", row=1, col=1)\n",
    "    fig.update_xaxes(title_text=\"Date\", row=2, col=1)\n",
    "    fig.update_yaxes(title_text=\"Price ($US)\", row=1, col=1)\n",
    "    fig.update_yaxes(title_text=\"Revenue ($US Millions)\", row=2, col=1)\n",
    "    fig.update_layout(showlegend=False,\n",
    "    height=900,\n",
    "    title=stock,\n",
    "    xaxis_rangeslider_visible=True)\n",
    "    fig.show()"
   ]
  },
  {
   "cell_type": "markdown",
   "id": "5a852d95-90e3-43ed-b71d-5bcd0b6de1aa",
   "metadata": {},
   "source": [
    "Technique 1 – Extract Stock Data Using yfinance\n",
    "\n",
    "We will use the yfinance.Ticker() object to get Tesla’s historical stock data."
   ]
  },
  {
   "cell_type": "code",
   "execution_count": null,
   "id": "cfad77a1-4fbd-45bc-8424-6371802b8b11",
   "metadata": {},
   "outputs": [],
   "source": [
    "# Create a Ticker object for Tesla\n",
    "tesla = yf.Ticker('TSLA')\n",
    "\n",
    "# Use the 'max' period to get the longest available history\n",
    "tesla_data = tesla.history(period=\"max\")\n",
    "\n",
    "# Reset the index to make 'Date' a column instead of index\n",
    "tesla_data.reset_index(inplace=True)\n",
    "\n",
    "# Preview the data\n",
    "tesla_data.head()"
   ]
  },
  {
   "cell_type": "markdown",
   "id": "6323786d-a3c5-4792-b8dc-2f4b8fa08428",
   "metadata": {},
   "source": [
    "Technique 2 – Extract Revenue Data via Web Scraping\n",
    "\n",
    "Now we will scrape Tesla’s historical revenue data from an HTML page using BeautifulSoup."
   ]
  },
  {
   "cell_type": "code",
   "execution_count": null,
   "id": "b07f6bc3-554f-4a6f-a347-5d9d508a3274",
   "metadata": {},
   "outputs": [],
   "source": [
    "# URL containing Tesla revenue data\n",
    "url = ' https://cf-courses-data.s3.us.cloud-object-storage.appdomain.cloud/IBMDeveloperSkillsNetwork-PY0220EN-SkillsNetwork/labs/project/revenue.htm'\n",
    "# Get the HTML content\n",
    "html_data = requests.get(url).text\n",
    "\n",
    "# Parse the HTML using BeautifulSoup\n",
    "soup = BeautifulSoup(html_data,'html.parser')\n",
    "\n",
    "#Create an empty DataFrame and extract revenue table:\n",
    "tesla_revenue = pd.DataFrame(columns = ['Date','Revenue'])\n",
    "\n",
    "# First we isolate the body of the table which contains all the information\n",
    "# Then we loop through each row and find all the column values for each row\n",
    "for row in soup.find_all(\"tbody\")[1].find_all('tr'):\n",
    "    col = row.find_all(\"td\")\n",
    "    date = col[0].text\n",
    "    revenue = col[1].text\n",
    "    \n",
    "    # Finally we append the data of each row to the table\n",
    "    tesla_revenue = pd.concat([tesla_revenue,pd.DataFrame({\"Date\":[date], \"Revenue\":[revenue]})], ignore_index=True)    "
   ]
  },
  {
   "cell_type": "code",
   "execution_count": null,
   "id": "7115cedd-4d08-46cd-89cb-f73dc8ff7cba",
   "metadata": {},
   "outputs": [],
   "source": [
    "#Clean and convert the revenue column:\n",
    "\n",
    "# Strip whitespace and remove commas and dollar signs\n",
    "tesla_revenue[\"Revenue\"] = tesla_revenue[\"Revenue\"].str.strip()\n",
    "tesla_revenue[\"Revenue\"] = tesla_revenue[\"Revenue\"].str.replace(r'[\\$,]', '', regex=True)\n",
    "\n",
    "#Remove an null or empty strings in the Revenue column.\n",
    "tesla_revenue.dropna(inplace=True)\n",
    "tesla_revenue = tesla_revenue[tesla_revenue['Revenue'] != \"\"]\n",
    "tesla_revenue['Revenue'] = pd.to_numeric(tesla_revenue['Revenue'])\n",
    "\n",
    "#Last 5 rows of the dataframe\n",
    "tesla_revenue.tail()"
   ]
  },
  {
   "cell_type": "markdown",
   "id": "25043606-c1c1-444c-b642-c7c2485c2c7b",
   "metadata": {},
   "source": [
    "Final Step – Plot Tesla Stock Price vs Revenue\n",
    "\n",
    "Now we will use the make_graph() function to plot the two datasets:"
   ]
  },
  {
   "cell_type": "code",
   "execution_count": null,
   "id": "9b277ae3-4ab1-48d6-9983-7f90074b9a5b",
   "metadata": {},
   "outputs": [],
   "source": [
    "make_graph(tesla_data, tesla_revenue, 'Tesla')"
   ]
  },
  {
   "cell_type": "markdown",
   "id": "9d8f3107-e0c3-4a9f-843c-88b29b27e3eb",
   "metadata": {},
   "source": [
    "Conclusion\n",
    "\n",
    "In this mini project, we:\n",
    "\n",
    "Extracted Tesla’s stock price history using the yfinance API.\n",
    "\n",
    "Scraped Tesla’s revenue data from an online source using BeautifulSoup.\n",
    "\n",
    "Cleaned and prepared the data using pandas.\n",
    "\n",
    "Visualized the stock price and revenue trends using Plotly.\n",
    "\n",
    "This provides a helpful view of how Tesla’s financial performance (revenue) aligns with its market performance (share price) over time."
   ]
  }
 ],
 "metadata": {
  "kernelspec": {
   "display_name": "Python 3 (ipykernel)",
   "language": "python",
   "name": "python3"
  },
  "language_info": {
   "codemirror_mode": {
    "name": "ipython",
    "version": 3
   },
   "file_extension": ".py",
   "mimetype": "text/x-python",
   "name": "python",
   "nbconvert_exporter": "python",
   "pygments_lexer": "ipython3",
   "version": "3.13.3"
  }
 },
 "nbformat": 4,
 "nbformat_minor": 5
}
