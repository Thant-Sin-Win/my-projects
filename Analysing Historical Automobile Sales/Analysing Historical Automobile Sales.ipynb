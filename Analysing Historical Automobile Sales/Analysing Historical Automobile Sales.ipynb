{
 "cells": [
  {
   "cell_type": "markdown",
   "id": "e859bde9",
   "metadata": {},
   "source": [
    "Scenario"
   ]
  },
  {
   "cell_type": "markdown",
   "id": "b585835f",
   "metadata": {},
   "source": [
    "In this project, I will be creating plots which answer questions for analysing \"historical_automobile_sales\" data to understand the historical trends in automobile sales during recession periods.\n",
    "recession period 1 - year 1980\n",
    "recession period 2 - year 1981 to 1982\n",
    "recession period 3 - year 1991\n",
    "recession period 4 - year 2000 to 2001\n",
    "recession period 5 - year end 2007 to mid 2009\n",
    "recession period 6 - year 2020 -Sep to Dec (Covid-19 Impact)"
   ]
  },
  {
   "cell_type": "markdown",
   "id": "8210b3dd",
   "metadata": {},
   "source": [
    "Data Description"
   ]
  },
  {
   "cell_type": "markdown",
   "id": "882adb1c",
   "metadata": {},
   "source": [
    "The dataset used for this visualization assignment contains historical_automobile_sales data representing automobile sales and related variables during recession and non-recession period."
   ]
  },
  {
   "cell_type": "markdown",
   "id": "8e953f26",
   "metadata": {},
   "source": [
    "The dataset includes the following variables:\n",
    "1. Date: The date of the observation.\n",
    "2. Recession: A binary variable indicating recession perion; 1 means it was recession, 0 means it was normal.\n",
    "3. Automobile_Sales: The number of vehicles sold during the period.\n",
    "4. GDP: The per capita GDP value in USD.\n",
    "5. Unemployment_Rate: The monthly unemployment rate.\n",
    "6. Consumer_Confidence: A synthetic index representing consumer confidence, which can impact consumer spending and automobile purchases.\n",
    "7. Seasonality_Weight: The weight representing the seasonality effect on automobile sales during the period.\n",
    "8. Price: The average vehicle price during the period.\n",
    "9. Advertising_Expenditure: The advertising expenditure of the company.\n",
    "10.Vehicle_Type: The type of vehicles sold; Supperminicar, Smallfamiliycar, Mediumfamilycar, Executivecar, Sports.\n",
    "11.Competition: The measure of competition in the market, such as the number of competitors or market share of major manufacturers.\n",
    "12.Month: Month of the observation extracted from Date..\n",
    "13.Year: Year of the observation extracted from Date.\n",
    "By examining various factors mentioned above from the dataset, I aim to gain insights into how recessions impacted automobile sales for the company."
   ]
  },
  {
   "cell_type": "code",
   "execution_count": null,
   "id": "0c067813",
   "metadata": {},
   "outputs": [],
   "source": [
    "%pip install seaborn"
   ]
  },
  {
   "cell_type": "code",
   "execution_count": null,
   "id": "6952f499",
   "metadata": {},
   "outputs": [],
   "source": [
    "%pip install folium"
   ]
  },
  {
   "cell_type": "code",
   "execution_count": null,
   "id": "777c31ae",
   "metadata": {},
   "outputs": [],
   "source": [
    "import numpy as np  # Importing necessary libraries"
   ]
  },
  {
   "cell_type": "code",
   "execution_count": null,
   "id": "90afe033",
   "metadata": {},
   "outputs": [],
   "source": [
    "import pandas as pd  # Importing necessary libraries"
   ]
  },
  {
   "cell_type": "code",
   "execution_count": null,
   "id": "b3404968",
   "metadata": {},
   "outputs": [],
   "source": [
    "%matplotlib inline"
   ]
  },
  {
   "cell_type": "code",
   "execution_count": null,
   "id": "7fdcb44e",
   "metadata": {},
   "outputs": [],
   "source": [
    "import matplotlib as mpl  # Importing necessary libraries"
   ]
  },
  {
   "cell_type": "code",
   "execution_count": null,
   "id": "6987ddef",
   "metadata": {},
   "outputs": [],
   "source": [
    "import matplotlib.pyplot as plt  # Importing necessary libraries"
   ]
  },
  {
   "cell_type": "code",
   "execution_count": null,
   "id": "a9312f56",
   "metadata": {},
   "outputs": [],
   "source": [
    "import seaborn as sns  # Importing necessary libraries"
   ]
  },
  {
   "cell_type": "code",
   "execution_count": null,
   "id": "44b8094e",
   "metadata": {},
   "outputs": [],
   "source": [
    "import folium  # Importing necessary libraries"
   ]
  },
  {
   "cell_type": "code",
   "execution_count": null,
   "id": "392e480c",
   "metadata": {},
   "outputs": [],
   "source": [
    "import requests  # Importing necessary libraries"
   ]
  },
  {
   "cell_type": "code",
   "execution_count": null,
   "id": "fe6e7990",
   "metadata": {},
   "outputs": [],
   "source": [
    "import io  # Importing necessary libraries"
   ]
  },
  {
   "cell_type": "code",
   "execution_count": null,
   "id": "e2b23093",
   "metadata": {},
   "outputs": [],
   "source": [
    "print('import done')"
   ]
  },
  {
   "cell_type": "code",
   "execution_count": null,
   "id": "2019311e",
   "metadata": {},
   "outputs": [],
   "source": [
    "URL = \"https://cf-courses-data.s3.us.cloud-object-storage.appdomain.cloud/IBMDeveloperSkillsNetwork-DV0101EN-SkillsNetwork/Data%20Files/historical_automobile_sales.csv\""
   ]
  },
  {
   "cell_type": "code",
   "execution_count": null,
   "id": "6df501c4",
   "metadata": {},
   "outputs": [],
   "source": [
    "response = requests.get(URL)"
   ]
  },
  {
   "cell_type": "markdown",
   "id": "31c8f700",
   "metadata": {},
   "source": [
    "response.raise_for_status()  # Raises an error if the request failed"
   ]
  },
  {
   "cell_type": "code",
   "execution_count": null,
   "id": "1d271afc",
   "metadata": {},
   "outputs": [],
   "source": [
    "# Read the CSV data into a pandas DataFrame"
   ]
  },
  {
   "cell_type": "code",
   "execution_count": null,
   "id": "9e15fe07",
   "metadata": {},
   "outputs": [],
   "source": [
    "df = pd.read_csv(io.StringIO(response.text))  # Reading data from CSV file"
   ]
  },
  {
   "cell_type": "code",
   "execution_count": null,
   "id": "89003ee5",
   "metadata": {},
   "outputs": [],
   "source": [
    "print('Data downloaded and read into a dataframe!')"
   ]
  },
  {
   "cell_type": "code",
   "execution_count": null,
   "id": "5fc40de4",
   "metadata": {},
   "outputs": [],
   "source": [
    "df.head()  # Displaying the first few rows of the dataset"
   ]
  },
  {
   "cell_type": "code",
   "execution_count": null,
   "id": "a11e9ea4",
   "metadata": {},
   "outputs": [],
   "source": [
    "df.columns()"
   ]
  },
  {
   "cell_type": "markdown",
   "id": "da04450b",
   "metadata": {},
   "source": [
    "Develop a Line chart using the functionality of pandas to show how automobile sales fluctuate from year to year"
   ]
  },
  {
   "cell_type": "code",
   "execution_count": null,
   "id": "3c0d5d91",
   "metadata": {},
   "outputs": [],
   "source": [
    "yearly_sales = df.groupby('Year')['Automobile_Sales'].mean()"
   ]
  },
  {
   "cell_type": "code",
   "execution_count": null,
   "id": "91adb25b",
   "metadata": {},
   "outputs": [],
   "source": [
    "plt.figure(figsize=(10,6))"
   ]
  },
  {
   "cell_type": "markdown",
   "id": "944255d2",
   "metadata": {},
   "source": [
    "yearly_sales.plot()"
   ]
  },
  {
   "cell_type": "code",
   "execution_count": null,
   "id": "69692275",
   "metadata": {},
   "outputs": [],
   "source": [
    "plt.title('Yearly Sales')"
   ]
  },
  {
   "cell_type": "code",
   "execution_count": null,
   "id": "28f5fd33",
   "metadata": {},
   "outputs": [],
   "source": [
    "plt.xlabel('Year')"
   ]
  },
  {
   "cell_type": "code",
   "execution_count": null,
   "id": "63b6e5bf",
   "metadata": {},
   "outputs": [],
   "source": [
    "plt.ylabel('Sales')"
   ]
  },
  {
   "cell_type": "code",
   "execution_count": null,
   "id": "1b7f7129",
   "metadata": {},
   "outputs": [],
   "source": [
    "plt.show()"
   ]
  },
  {
   "cell_type": "code",
   "execution_count": null,
   "id": "f53944a0",
   "metadata": {},
   "outputs": [],
   "source": [
    "print('done')"
   ]
  },
  {
   "cell_type": "markdown",
   "id": "571aaa47",
   "metadata": {},
   "source": [
    "ticks on x- axis with all the years, to identify the years of recession"
   ]
  },
  {
   "cell_type": "code",
   "execution_count": null,
   "id": "5e7610f2",
   "metadata": {},
   "outputs": [],
   "source": [
    "plt.figure(figsize=(10,6))"
   ]
  },
  {
   "cell_type": "markdown",
   "id": "9a5172de",
   "metadata": {},
   "source": [
    "yearly_sales.plot()"
   ]
  },
  {
   "cell_type": "code",
   "execution_count": null,
   "id": "de444853",
   "metadata": {},
   "outputs": [],
   "source": [
    "plt.xticks(list(range(1980, 2024)), rotation=75)"
   ]
  },
  {
   "cell_type": "code",
   "execution_count": null,
   "id": "2f875bec",
   "metadata": {},
   "outputs": [],
   "source": [
    "plt.xlabel('Year')"
   ]
  },
  {
   "cell_type": "code",
   "execution_count": null,
   "id": "4a141602",
   "metadata": {},
   "outputs": [],
   "source": [
    "plt.ylabel('Total Automobile Sales')"
   ]
  },
  {
   "cell_type": "code",
   "execution_count": null,
   "id": "8326eec5",
   "metadata": {},
   "outputs": [],
   "source": [
    "plt.title('Automobile Sales during Recession')"
   ]
  },
  {
   "cell_type": "code",
   "execution_count": null,
   "id": "9e4ac7f9",
   "metadata": {},
   "outputs": [],
   "source": [
    "plt.text(1982, yearly_sales.get(1982, 0) + 100, '1981-82 Recession')"
   ]
  },
  {
   "cell_type": "code",
   "execution_count": null,
   "id": "041f25dd",
   "metadata": {},
   "outputs": [],
   "source": [
    "plt.text(2009, yearly_sales.get(2009, 0) + 100, '2008-09 Recession')"
   ]
  },
  {
   "cell_type": "code",
   "execution_count": null,
   "id": "1acbf77c",
   "metadata": {},
   "outputs": [],
   "source": [
    "plt.legend(['Total Sales'])"
   ]
  },
  {
   "cell_type": "code",
   "execution_count": null,
   "id": "07ba8910",
   "metadata": {},
   "outputs": [],
   "source": [
    "plt.show()"
   ]
  },
  {
   "cell_type": "markdown",
   "id": "f6bd0350",
   "metadata": {},
   "source": [
    "Plot different lines for categories of vehicle type and analyse the trend to answer the question Is there a noticeable difference in sales trends between different vehicle types during recession periods?"
   ]
  },
  {
   "cell_type": "code",
   "execution_count": null,
   "id": "686eff26",
   "metadata": {},
   "outputs": [],
   "source": [
    "df_rec = df[df['Recession'] == 1]"
   ]
  },
  {
   "cell_type": "code",
   "execution_count": null,
   "id": "0eab6f2c",
   "metadata": {},
   "outputs": [],
   "source": [
    "df_Mline = df_rec.groupby(['Year', 'Vehicle_Type'], as_index=False)['Automobile_Sales'].mean()"
   ]
  },
  {
   "cell_type": "code",
   "execution_count": null,
   "id": "11f16d6b",
   "metadata": {},
   "outputs": [],
   "source": [
    "df_Mline['Normalized_Sales'] = df_Mline.groupby('Vehicle_Type')['Automobile_Sales'].transform(lambda x: x / x.mean())"
   ]
  },
  {
   "cell_type": "code",
   "execution_count": null,
   "id": "fb6ce790",
   "metadata": {},
   "outputs": [],
   "source": [
    "df_Mline.set_index('Year', inplace=True)"
   ]
  },
  {
   "cell_type": "code",
   "execution_count": null,
   "id": "e8be4f2f",
   "metadata": {},
   "outputs": [],
   "source": [
    "plt.figure(figsize=(12, 8))"
   ]
  },
  {
   "cell_type": "code",
   "execution_count": null,
   "id": "ec3b236f",
   "metadata": {},
   "outputs": [],
   "source": [
    "vehicle_colors = {"
   ]
  },
  {
   "cell_type": "markdown",
   "id": "4cfd19ae",
   "metadata": {},
   "source": [
    "'Mediumfamilycar': 'blue',"
   ]
  },
  {
   "cell_type": "markdown",
   "id": "436dc51e",
   "metadata": {},
   "source": [
    "'Smallfamiliycar': 'orange',"
   ]
  },
  {
   "cell_type": "markdown",
   "id": "71b8b048",
   "metadata": {},
   "source": [
    "'Supperminicar': 'red',"
   ]
  },
  {
   "cell_type": "markdown",
   "id": "e979eb3a",
   "metadata": {},
   "source": [
    "'Sports': 'yellow',"
   ]
  },
  {
   "cell_type": "markdown",
   "id": "ede020b6",
   "metadata": {},
   "source": [
    "'Executivecar': 'black',"
   ]
  },
  {
   "cell_type": "markdown",
   "id": "4f702983",
   "metadata": {},
   "source": [
    "}"
   ]
  },
  {
   "cell_type": "code",
   "execution_count": null,
   "id": "5993f63a",
   "metadata": {},
   "outputs": [],
   "source": [
    "for vehicle_type in df_Mline['Vehicle_Type'].unique():"
   ]
  },
  {
   "cell_type": "code",
   "execution_count": null,
   "id": "ea8a3252",
   "metadata": {},
   "outputs": [],
   "source": [
    "data = df_Mline[df_Mline['Vehicle_Type'] == vehicle_type]"
   ]
  },
  {
   "cell_type": "code",
   "execution_count": null,
   "id": "e2f72440",
   "metadata": {},
   "outputs": [],
   "source": [
    "color = vehicle_colors.get(vehicle_type, 'black')"
   ]
  },
  {
   "cell_type": "code",
   "execution_count": null,
   "id": "af81a7ce",
   "metadata": {},
   "outputs": [],
   "source": [
    "plt.plot(data.index, data['Normalized_Sales'], label=vehicle_type, marker='o',color=color)"
   ]
  },
  {
   "cell_type": "code",
   "execution_count": null,
   "id": "e831e509",
   "metadata": {},
   "outputs": [],
   "source": [
    "recession_years = df_rec['Year'].unique()"
   ]
  },
  {
   "cell_type": "markdown",
   "id": "948573dd",
   "metadata": {},
   "source": [
    "for year in recession_years:"
   ]
  },
  {
   "cell_type": "code",
   "execution_count": null,
   "id": "9378c8b1",
   "metadata": {},
   "outputs": [],
   "source": [
    "plt.axvline(x=year, color='gray', linestyle='--', alpha=0.5)"
   ]
  },
  {
   "cell_type": "code",
   "execution_count": null,
   "id": "274bd192",
   "metadata": {},
   "outputs": [],
   "source": [
    "plt.legend(title=\"Vehicle Type\", bbox_to_anchor=(1.05, 1), loc='upper left')"
   ]
  },
  {
   "cell_type": "code",
   "execution_count": null,
   "id": "585ed35b",
   "metadata": {},
   "outputs": [],
   "source": [
    "plt.ylabel(\"Normalized Sales\")"
   ]
  },
  {
   "cell_type": "code",
   "execution_count": null,
   "id": "cb5f8e07",
   "metadata": {},
   "outputs": [],
   "source": [
    "plt.xlabel(\"Year\")"
   ]
  },
  {
   "cell_type": "code",
   "execution_count": null,
   "id": "3a04fc56",
   "metadata": {},
   "outputs": [],
   "source": [
    "plt.title(\"Normalized Automobile Sales by Vehicle Type During Recession\")"
   ]
  },
  {
   "cell_type": "code",
   "execution_count": null,
   "id": "43b8b1f6",
   "metadata": {},
   "outputs": [],
   "source": [
    "plt.tight_layout()"
   ]
  },
  {
   "cell_type": "code",
   "execution_count": null,
   "id": "2ca70d4f",
   "metadata": {},
   "outputs": [],
   "source": [
    "plt.show()"
   ]
  },
  {
   "cell_type": "markdown",
   "id": "63cee31f",
   "metadata": {},
   "source": [
    "Sports cars demonstrate growth over the recession periods. During recession period, supermini cars show downward trend. Medium and Small family cars show less consistent trends, going up and down during recession period. Executive cars were not sold during recession except for 1991. Chatgpt, please make a conclusion and write an insight you get from this chart."
   ]
  },
  {
   "cell_type": "markdown",
   "id": "e55fad92",
   "metadata": {},
   "source": [
    "Use the functionality of Seaborn Library to create a visualization to compare the sales trend per vehicle type for a recession period with a non-recession period."
   ]
  },
  {
   "cell_type": "markdown",
   "id": "0d54a53e",
   "metadata": {},
   "source": [
    "Use the functionality of Seaborn Library to create a visualization to compare the sales trend per vehicle type for a recession period with a non-recession period."
   ]
  },
  {
   "cell_type": "markdown",
   "id": "8f719a94",
   "metadata": {},
   "source": [
    "Now compare the sales of different vehicle types during a recession and a non-recession period"
   ]
  },
  {
   "cell_type": "code",
   "execution_count": null,
   "id": "e8c49c63",
   "metadata": {},
   "outputs": [],
   "source": [
    "dd = df.groupby(['Recession', 'Vehicle_Type'])['Automobile_Sales'].mean().reset_index()"
   ]
  },
  {
   "cell_type": "code",
   "execution_count": null,
   "id": "a4ac1880",
   "metadata": {},
   "outputs": [],
   "source": [
    "plt.figure(figsize=(12, 8))"
   ]
  },
  {
   "cell_type": "code",
   "execution_count": null,
   "id": "af387cc8",
   "metadata": {},
   "outputs": [],
   "source": [
    "sns.barplot(x='Recession', y='Automobile_Sales', hue='Vehicle_Type', data=dd)"
   ]
  },
  {
   "cell_type": "code",
   "execution_count": null,
   "id": "d4374416",
   "metadata": {},
   "outputs": [],
   "source": [
    "plt.xticks(ticks=[0, 1], labels=['Non-Recession', 'Recession'])"
   ]
  },
  {
   "cell_type": "code",
   "execution_count": null,
   "id": "e1286c75",
   "metadata": {},
   "outputs": [],
   "source": [
    "plt.xlabel('Economic Condition')"
   ]
  },
  {
   "cell_type": "code",
   "execution_count": null,
   "id": "7d91f4ad",
   "metadata": {},
   "outputs": [],
   "source": [
    "plt.ylabel('Average Automobile Sales')"
   ]
  },
  {
   "cell_type": "code",
   "execution_count": null,
   "id": "ab1e41a1",
   "metadata": {},
   "outputs": [],
   "source": [
    "plt.title('Vehicle-Wise Sales during Recession and Non-Recession Period')"
   ]
  },
  {
   "cell_type": "code",
   "execution_count": null,
   "id": "de360133",
   "metadata": {},
   "outputs": [],
   "source": [
    "plt.tight_layout()"
   ]
  },
  {
   "cell_type": "code",
   "execution_count": null,
   "id": "7f2449e1",
   "metadata": {},
   "outputs": [],
   "source": [
    "plt.show()"
   ]
  },
  {
   "cell_type": "markdown",
   "id": "dac8f169",
   "metadata": {},
   "source": [
    "From this plot, we can understand that there is a drastic decline in the overall sales of the automobiles during recession. However, the most affected type of vehicle is sports."
   ]
  },
  {
   "cell_type": "markdown",
   "id": "857ebfe7",
   "metadata": {},
   "source": [
    "Use sub plotting to compare the variations in GDP during recession and non-recession period by developing line plots for each period."
   ]
  },
  {
   "cell_type": "markdown",
   "id": "534b2027",
   "metadata": {},
   "source": [
    "Now, I want to find more insights from the data to understand the reason"
   ]
  },
  {
   "cell_type": "markdown",
   "id": "4a8d640f",
   "metadata": {},
   "source": [
    "How did the GDP vary over time during recession and non-recession periods"
   ]
  },
  {
   "cell_type": "code",
   "execution_count": null,
   "id": "1f4c097d",
   "metadata": {},
   "outputs": [],
   "source": [
    "rec_data = df[df['Recession'] == 1]"
   ]
  },
  {
   "cell_type": "code",
   "execution_count": null,
   "id": "3e1cb8de",
   "metadata": {},
   "outputs": [],
   "source": [
    "non_rec_data = df[df['Recession'] == 0]"
   ]
  },
  {
   "cell_type": "code",
   "execution_count": null,
   "id": "721240d1",
   "metadata": {},
   "outputs": [],
   "source": [
    "# Create figure"
   ]
  },
  {
   "cell_type": "code",
   "execution_count": null,
   "id": "d88697a7",
   "metadata": {},
   "outputs": [],
   "source": [
    "fig = plt.figure(figsize=(14, 6))"
   ]
  },
  {
   "cell_type": "code",
   "execution_count": null,
   "id": "64790a50",
   "metadata": {},
   "outputs": [],
   "source": [
    "# Create different axes for subplots"
   ]
  },
  {
   "cell_type": "code",
   "execution_count": null,
   "id": "37494fd2",
   "metadata": {},
   "outputs": [],
   "source": [
    "ax0 = fig.add_subplot(1, 2, 1)  # subplot 1"
   ]
  },
  {
   "cell_type": "code",
   "execution_count": null,
   "id": "84af3652",
   "metadata": {},
   "outputs": [],
   "source": [
    "ax1 = fig.add_subplot(1, 2, 2)  # subplot 2"
   ]
  },
  {
   "cell_type": "code",
   "execution_count": null,
   "id": "7e393d7f",
   "metadata": {},
   "outputs": [],
   "source": [
    "# Line plot for recession period"
   ]
  },
  {
   "cell_type": "code",
   "execution_count": null,
   "id": "ef0a10cc",
   "metadata": {},
   "outputs": [],
   "source": [
    "sns.lineplot(x='Year', y='GDP', data=rec_data, label='GDP during Recession', ax=ax0)"
   ]
  },
  {
   "cell_type": "markdown",
   "id": "71a3acf4",
   "metadata": {},
   "source": [
    "ax0.set_xlabel('Year')"
   ]
  },
  {
   "cell_type": "markdown",
   "id": "c0b915c3",
   "metadata": {},
   "source": [
    "ax0.set_ylabel('GDP')"
   ]
  },
  {
   "cell_type": "markdown",
   "id": "5a15c960",
   "metadata": {},
   "source": [
    "ax0.set_title('GDP Variation during Recession Period')"
   ]
  },
  {
   "cell_type": "code",
   "execution_count": null,
   "id": "9b39703e",
   "metadata": {},
   "outputs": [],
   "source": [
    "# Line plot for non-recession period"
   ]
  },
  {
   "cell_type": "code",
   "execution_count": null,
   "id": "8b43ac52",
   "metadata": {},
   "outputs": [],
   "source": [
    "sns.lineplot(x='Year', y='GDP', data=non_rec_data, label='GDP during Non-Recession', ax=ax1)"
   ]
  },
  {
   "cell_type": "markdown",
   "id": "0188266e",
   "metadata": {},
   "source": [
    "ax1.set_xlabel('Year')"
   ]
  },
  {
   "cell_type": "markdown",
   "id": "2caf29f5",
   "metadata": {},
   "source": [
    "ax1.set_ylabel('GDP')"
   ]
  },
  {
   "cell_type": "markdown",
   "id": "ed6c12fd",
   "metadata": {},
   "source": [
    "ax1.set_title('GDP Variation during Non-Recession Period')"
   ]
  },
  {
   "cell_type": "code",
   "execution_count": null,
   "id": "15ab6e9c",
   "metadata": {},
   "outputs": [],
   "source": [
    "# Add vertical lines to both plots"
   ]
  },
  {
   "cell_type": "code",
   "execution_count": null,
   "id": "c12079b2",
   "metadata": {},
   "outputs": [],
   "source": [
    "recession_years = df[df['Recession'] == 1]['Year'].unique()"
   ]
  },
  {
   "cell_type": "markdown",
   "id": "3095a5f8",
   "metadata": {},
   "source": [
    "for year in recession_years:"
   ]
  },
  {
   "cell_type": "code",
   "execution_count": null,
   "id": "8d23960f",
   "metadata": {},
   "outputs": [],
   "source": [
    "ax0.axvline(x=year, color='gray', linestyle='--', alpha=0.5)"
   ]
  },
  {
   "cell_type": "code",
   "execution_count": null,
   "id": "210691f4",
   "metadata": {},
   "outputs": [],
   "source": [
    "ax1.axvline(x=year, color='gray', linestyle='--', alpha=0.5)"
   ]
  },
  {
   "cell_type": "code",
   "execution_count": null,
   "id": "dcacc250",
   "metadata": {},
   "outputs": [],
   "source": [
    "# Adjust layout"
   ]
  },
  {
   "cell_type": "code",
   "execution_count": null,
   "id": "a0096ddc",
   "metadata": {},
   "outputs": [],
   "source": [
    "plt.tight_layout()"
   ]
  },
  {
   "cell_type": "code",
   "execution_count": null,
   "id": "3199713c",
   "metadata": {},
   "outputs": [],
   "source": [
    "plt.show()"
   ]
  },
  {
   "cell_type": "markdown",
   "id": "cbc849e6",
   "metadata": {},
   "source": [
    "From this plot, it is evident that during recession, the GDP of the country was in a low range, might have affected the overall sales of the company"
   ]
  },
  {
   "cell_type": "markdown",
   "id": "1254e59e",
   "metadata": {},
   "source": [
    "Develop a Bubble plot for displaying the impact of seasonality on Automobile Sales"
   ]
  },
  {
   "cell_type": "markdown",
   "id": "5b10bc95",
   "metadata": {},
   "source": [
    "How has seasonality impacted the sales, in which months the sales were high or low? Check it for non-recession years to understand the trend"
   ]
  },
  {
   "cell_type": "markdown",
   "id": "b4ac40ff",
   "metadata": {},
   "source": [
    "Develop a Bubble plot for displaying Automobile Sales for every month and use Seasonality Weight for representing the size of each bubble"
   ]
  },
  {
   "cell_type": "code",
   "execution_count": null,
   "id": "c230fd04",
   "metadata": {},
   "outputs": [],
   "source": [
    "non_rec_data = df[df['Recession'] == 0]"
   ]
  },
  {
   "cell_type": "code",
   "execution_count": null,
   "id": "a26707f0",
   "metadata": {},
   "outputs": [],
   "source": [
    "# Create bubble plot"
   ]
  },
  {
   "cell_type": "code",
   "execution_count": null,
   "id": "232dc6af",
   "metadata": {},
   "outputs": [],
   "source": [
    "plt.figure(figsize=(12, 6))"
   ]
  },
  {
   "cell_type": "code",
   "execution_count": null,
   "id": "354b0ad1",
   "metadata": {},
   "outputs": [],
   "source": [
    "sns.scatterplot("
   ]
  },
  {
   "cell_type": "code",
   "execution_count": null,
   "id": "3d7786a8",
   "metadata": {},
   "outputs": [],
   "source": [
    "data=non_rec_data,"
   ]
  },
  {
   "cell_type": "code",
   "execution_count": null,
   "id": "a51d7ee8",
   "metadata": {},
   "outputs": [],
   "source": [
    "x='Month',"
   ]
  },
  {
   "cell_type": "code",
   "execution_count": null,
   "id": "d6a04dad",
   "metadata": {},
   "outputs": [],
   "source": [
    "y='Automobile_Sales',"
   ]
  },
  {
   "cell_type": "code",
   "execution_count": null,
   "id": "eca283b1",
   "metadata": {},
   "outputs": [],
   "source": [
    "size='Seasonality_Weight',"
   ]
  },
  {
   "cell_type": "code",
   "execution_count": null,
   "id": "2a23b356",
   "metadata": {},
   "outputs": [],
   "source": [
    "hue='Seasonality_Weight',"
   ]
  },
  {
   "cell_type": "code",
   "execution_count": null,
   "id": "2162537d",
   "metadata": {},
   "outputs": [],
   "source": [
    "sizes=(100, 1000),"
   ]
  },
  {
   "cell_type": "code",
   "execution_count": null,
   "id": "1a8805ea",
   "metadata": {},
   "outputs": [],
   "source": [
    "palette='coolwarm',"
   ]
  },
  {
   "cell_type": "code",
   "execution_count": null,
   "id": "b1a94233",
   "metadata": {},
   "outputs": [],
   "source": [
    "legend=False"
   ]
  },
  {
   "cell_type": "markdown",
   "id": "75775ce7",
   "metadata": {},
   "source": [
    ")"
   ]
  },
  {
   "cell_type": "code",
   "execution_count": null,
   "id": "579c5434",
   "metadata": {},
   "outputs": [],
   "source": [
    "# Add labels and title"
   ]
  },
  {
   "cell_type": "code",
   "execution_count": null,
   "id": "2200f2c0",
   "metadata": {},
   "outputs": [],
   "source": [
    "plt.xlabel('Month')"
   ]
  },
  {
   "cell_type": "code",
   "execution_count": null,
   "id": "5b1e6b9a",
   "metadata": {},
   "outputs": [],
   "source": [
    "plt.ylabel('Automobile Sales')"
   ]
  },
  {
   "cell_type": "code",
   "execution_count": null,
   "id": "4751f66e",
   "metadata": {},
   "outputs": [],
   "source": [
    "plt.title('Seasonality Impact on Automobile Sales')"
   ]
  },
  {
   "cell_type": "code",
   "execution_count": null,
   "id": "53f65a50",
   "metadata": {},
   "outputs": [],
   "source": [
    "plt.grid(True)"
   ]
  },
  {
   "cell_type": "code",
   "execution_count": null,
   "id": "665c133b",
   "metadata": {},
   "outputs": [],
   "source": [
    "plt.tight_layout()"
   ]
  },
  {
   "cell_type": "code",
   "execution_count": null,
   "id": "adc799bd",
   "metadata": {},
   "outputs": [],
   "source": [
    "plt.show()"
   ]
  },
  {
   "cell_type": "markdown",
   "id": "8e1973a7",
   "metadata": {},
   "source": [
    "From this plot, it is evident that seasonality has not affected on the overall sales. However, there is a drastic raise in sales in the month of April."
   ]
  },
  {
   "cell_type": "markdown",
   "id": "68ea06a6",
   "metadata": {},
   "source": [
    "Use the functionality of Matplotlib to develop a scatter plot to identify the correlation between average vehicle price relate to the sales volume during recessions."
   ]
  },
  {
   "cell_type": "code",
   "execution_count": null,
   "id": "e31485f9",
   "metadata": {},
   "outputs": [],
   "source": [
    "import matplotlib.pyplot as plt  # Importing necessary libraries"
   ]
  },
  {
   "cell_type": "code",
   "execution_count": null,
   "id": "e2463be6",
   "metadata": {},
   "outputs": [],
   "source": [
    "# Create dataframe for recession period"
   ]
  },
  {
   "cell_type": "code",
   "execution_count": null,
   "id": "447534eb",
   "metadata": {},
   "outputs": [],
   "source": [
    "rec_data = df[df['Recession'] == 1]"
   ]
  },
  {
   "cell_type": "code",
   "execution_count": null,
   "id": "0d70d762",
   "metadata": {},
   "outputs": [],
   "source": [
    "# Scatter plot"
   ]
  },
  {
   "cell_type": "code",
   "execution_count": null,
   "id": "29fdb933",
   "metadata": {},
   "outputs": [],
   "source": [
    "plt.figure(figsize=(10, 6))"
   ]
  },
  {
   "cell_type": "code",
   "execution_count": null,
   "id": "b4dac875",
   "metadata": {},
   "outputs": [],
   "source": [
    "plt.scatter(rec_data['Consumer_Confidence'], rec_data['Automobile_Sales'], color='blue', alpha=0.6)"
   ]
  },
  {
   "cell_type": "code",
   "execution_count": null,
   "id": "407da67a",
   "metadata": {},
   "outputs": [],
   "source": [
    "# Labels and title"
   ]
  },
  {
   "cell_type": "code",
   "execution_count": null,
   "id": "f3b9ed1d",
   "metadata": {},
   "outputs": [],
   "source": [
    "plt.xlabel('Consumer Confidence')"
   ]
  },
  {
   "cell_type": "code",
   "execution_count": null,
   "id": "eb7f884b",
   "metadata": {},
   "outputs": [],
   "source": [
    "plt.ylabel('Automobile Sales')"
   ]
  },
  {
   "cell_type": "code",
   "execution_count": null,
   "id": "09cc9412",
   "metadata": {},
   "outputs": [],
   "source": [
    "plt.title('Consumer Confidence and Automobile Sales during Recessions')"
   ]
  },
  {
   "cell_type": "code",
   "execution_count": null,
   "id": "30a5cddc",
   "metadata": {},
   "outputs": [],
   "source": [
    "plt.grid(True)"
   ]
  },
  {
   "cell_type": "code",
   "execution_count": null,
   "id": "10b5979c",
   "metadata": {},
   "outputs": [],
   "source": [
    "plt.tight_layout()"
   ]
  },
  {
   "cell_type": "code",
   "execution_count": null,
   "id": "113da1d5",
   "metadata": {},
   "outputs": [],
   "source": [
    "plt.show()"
   ]
  },
  {
   "cell_type": "markdown",
   "id": "e163e3fb",
   "metadata": {},
   "source": [
    "How does the average vehicle price relate to the sales volume during recessions?"
   ]
  },
  {
   "cell_type": "code",
   "execution_count": null,
   "id": "5e7c878d",
   "metadata": {},
   "outputs": [],
   "source": [
    "import matplotlib.pyplot as plt  # Importing necessary libraries"
   ]
  },
  {
   "cell_type": "code",
   "execution_count": null,
   "id": "2947c299",
   "metadata": {},
   "outputs": [],
   "source": [
    "# Create dataframe for recession period"
   ]
  },
  {
   "cell_type": "code",
   "execution_count": null,
   "id": "4e3fe4e9",
   "metadata": {},
   "outputs": [],
   "source": [
    "rec_data = df[df['Recession'] == 1]"
   ]
  },
  {
   "cell_type": "code",
   "execution_count": null,
   "id": "f3cadf9e",
   "metadata": {},
   "outputs": [],
   "source": [
    "# Scatter plot"
   ]
  },
  {
   "cell_type": "code",
   "execution_count": null,
   "id": "8ecbe289",
   "metadata": {},
   "outputs": [],
   "source": [
    "plt.figure(figsize=(10, 6))"
   ]
  },
  {
   "cell_type": "code",
   "execution_count": null,
   "id": "56b2ef2f",
   "metadata": {},
   "outputs": [],
   "source": [
    "plt.scatter(rec_data['Price'], rec_data['Automobile_Sales'], color='green', alpha=0.6)"
   ]
  },
  {
   "cell_type": "code",
   "execution_count": null,
   "id": "89a6b11d",
   "metadata": {},
   "outputs": [],
   "source": [
    "# Labels and title"
   ]
  },
  {
   "cell_type": "code",
   "execution_count": null,
   "id": "0c06f726",
   "metadata": {},
   "outputs": [],
   "source": [
    "plt.xlabel('Average Vehicle Price')"
   ]
  },
  {
   "cell_type": "code",
   "execution_count": null,
   "id": "f6c1e38d",
   "metadata": {},
   "outputs": [],
   "source": [
    "plt.ylabel('Automobile Sales')"
   ]
  },
  {
   "cell_type": "code",
   "execution_count": null,
   "id": "9aa07bea",
   "metadata": {},
   "outputs": [],
   "source": [
    "plt.title('Relationship between Average Vehicle Price and Sales during Recessions')"
   ]
  },
  {
   "cell_type": "code",
   "execution_count": null,
   "id": "832cb8ee",
   "metadata": {},
   "outputs": [],
   "source": [
    "plt.tight_layout()"
   ]
  },
  {
   "cell_type": "code",
   "execution_count": null,
   "id": "0a2ad08c",
   "metadata": {},
   "outputs": [],
   "source": [
    "plt.show()"
   ]
  },
  {
   "cell_type": "markdown",
   "id": "6852f171",
   "metadata": {},
   "source": [
    "From the plot, there is not much relation!"
   ]
  },
  {
   "cell_type": "markdown",
   "id": "a26eeac5",
   "metadata": {},
   "source": [
    "Create a pie chart to display the portion of advertising expenditure of XYZAutomotives during recession and non-recession periods."
   ]
  },
  {
   "cell_type": "code",
   "execution_count": null,
   "id": "34563f9d",
   "metadata": {},
   "outputs": [],
   "source": [
    "# Filter the data"
   ]
  },
  {
   "cell_type": "code",
   "execution_count": null,
   "id": "1a353026",
   "metadata": {},
   "outputs": [],
   "source": [
    "Rdata = df[df['Recession'] == 1]"
   ]
  },
  {
   "cell_type": "code",
   "execution_count": null,
   "id": "3d267b8f",
   "metadata": {},
   "outputs": [],
   "source": [
    "NRdata = df[df['Recession'] == 0]"
   ]
  },
  {
   "cell_type": "code",
   "execution_count": null,
   "id": "d130218b",
   "metadata": {},
   "outputs": [],
   "source": [
    "# Calculate the total advertising expenditure for both periods"
   ]
  },
  {
   "cell_type": "code",
   "execution_count": null,
   "id": "24982517",
   "metadata": {},
   "outputs": [],
   "source": [
    "RAtotal = Rdata['Advertising_Expenditure'].sum()"
   ]
  },
  {
   "cell_type": "code",
   "execution_count": null,
   "id": "a7ecc62a",
   "metadata": {},
   "outputs": [],
   "source": [
    "NRAtotal = NRdata['Advertising_Expenditure'].sum()"
   ]
  },
  {
   "cell_type": "code",
   "execution_count": null,
   "id": "4a863e6f",
   "metadata": {},
   "outputs": [],
   "source": [
    "# Create a pie chart for the advertising expenditure"
   ]
  },
  {
   "cell_type": "code",
   "execution_count": null,
   "id": "6071d7ad",
   "metadata": {},
   "outputs": [],
   "source": [
    "plt.figure(figsize=(8, 6))"
   ]
  },
  {
   "cell_type": "code",
   "execution_count": null,
   "id": "991e175c",
   "metadata": {},
   "outputs": [],
   "source": [
    "labels = ['Recession', 'Non-Recession']"
   ]
  },
  {
   "cell_type": "code",
   "execution_count": null,
   "id": "a7209c7d",
   "metadata": {},
   "outputs": [],
   "source": [
    "sizes = [RAtotal, NRAtotal]"
   ]
  },
  {
   "cell_type": "code",
   "execution_count": null,
   "id": "ff2f55d9",
   "metadata": {},
   "outputs": [],
   "source": [
    "colors = ['lightcoral', 'lightgreen']"
   ]
  },
  {
   "cell_type": "code",
   "execution_count": null,
   "id": "2d1d5c6f",
   "metadata": {},
   "outputs": [],
   "source": [
    "plt.pie(sizes, labels=labels, autopct='%1.1f%%', startangle=90, colors=colors)"
   ]
  },
  {
   "cell_type": "code",
   "execution_count": null,
   "id": "f0212cd7",
   "metadata": {},
   "outputs": [],
   "source": [
    "plt.title('Advertising Expenditure of XYZAutomotives: Recession vs Non-Recession')"
   ]
  },
  {
   "cell_type": "code",
   "execution_count": null,
   "id": "77ee31b3",
   "metadata": {},
   "outputs": [],
   "source": [
    "plt.axis('equal')  # Ensures the pie is a circle"
   ]
  },
  {
   "cell_type": "code",
   "execution_count": null,
   "id": "f51d9a7c",
   "metadata": {},
   "outputs": [],
   "source": [
    "plt.show()"
   ]
  },
  {
   "cell_type": "markdown",
   "id": "28c84ff0",
   "metadata": {},
   "source": [
    "It seems XYZAutomotives has been spending much more on the advertisements during non-recession periods as compared to during recession times. Fair enough!"
   ]
  },
  {
   "cell_type": "markdown",
   "id": "2f08c37d",
   "metadata": {},
   "source": [
    "Develop a pie chart to display the total Advertisement expenditure for each vehicle type during recession period."
   ]
  },
  {
   "cell_type": "code",
   "execution_count": null,
   "id": "66859992",
   "metadata": {},
   "outputs": [],
   "source": [
    "Rdata = df[df['Recession'] == 1]"
   ]
  },
  {
   "cell_type": "code",
   "execution_count": null,
   "id": "c9beadb4",
   "metadata": {},
   "outputs": [],
   "source": [
    "# Calculate the advertising expenditure by vehicle type during recessions"
   ]
  },
  {
   "cell_type": "code",
   "execution_count": null,
   "id": "a4bfb75b",
   "metadata": {},
   "outputs": [],
   "source": [
    "VTexpenditure = Rdata.groupby('Vehicle_Type')['Advertising_Expenditure'].sum()"
   ]
  },
  {
   "cell_type": "code",
   "execution_count": null,
   "id": "139b7d3d",
   "metadata": {},
   "outputs": [],
   "source": [
    "# Create a pie chart for the share of each vehicle type in total expenditure during recessions"
   ]
  },
  {
   "cell_type": "code",
   "execution_count": null,
   "id": "01d6c0fa",
   "metadata": {},
   "outputs": [],
   "source": [
    "plt.figure(figsize=(8, 6))"
   ]
  },
  {
   "cell_type": "code",
   "execution_count": null,
   "id": "cb371b13",
   "metadata": {},
   "outputs": [],
   "source": [
    "labels = VTexpenditure.index"
   ]
  },
  {
   "cell_type": "code",
   "execution_count": null,
   "id": "a099149a",
   "metadata": {},
   "outputs": [],
   "source": [
    "sizes = VTexpenditure.values"
   ]
  },
  {
   "cell_type": "code",
   "execution_count": null,
   "id": "38067a9c",
   "metadata": {},
   "outputs": [],
   "source": [
    "plt.pie(sizes, labels=labels, autopct='%1.1f%%', startangle=90)"
   ]
  },
  {
   "cell_type": "code",
   "execution_count": null,
   "id": "0dce89b9",
   "metadata": {},
   "outputs": [],
   "source": [
    "plt.title('Vehicle-Type Wise Advertising Expenditure during Recession')"
   ]
  },
  {
   "cell_type": "code",
   "execution_count": null,
   "id": "cebe2499",
   "metadata": {},
   "outputs": [],
   "source": [
    "plt.axis('equal')  # Ensures pie chart is circular"
   ]
  },
  {
   "cell_type": "code",
   "execution_count": null,
   "id": "1d9f65a2",
   "metadata": {},
   "outputs": [],
   "source": [
    "plt.show()"
   ]
  },
  {
   "cell_type": "markdown",
   "id": "1b446ca3",
   "metadata": {},
   "source": [
    "During recession the advertisements were mostly focued on low price range vehicle types. A wise decision!"
   ]
  },
  {
   "cell_type": "markdown",
   "id": "3a2fcf0f",
   "metadata": {},
   "source": [
    "Develop a lineplot to analyse the effect of the unemployment rate on vehicle type and sales during the Recession Period."
   ]
  },
  {
   "cell_type": "markdown",
   "id": "593ef88d",
   "metadata": {},
   "source": [
    "Analyze the effect of the unemployment rate on vehicle type and sales during the Recession Period."
   ]
  },
  {
   "cell_type": "code",
   "execution_count": null,
   "id": "bae14e6b",
   "metadata": {},
   "outputs": [],
   "source": [
    "df_rec = df[df['Recession'] == 1]"
   ]
  },
  {
   "cell_type": "code",
   "execution_count": null,
   "id": "94de76cf",
   "metadata": {},
   "outputs": [],
   "source": [
    "# Create the lineplot"
   ]
  },
  {
   "cell_type": "code",
   "execution_count": null,
   "id": "62f5c088",
   "metadata": {},
   "outputs": [],
   "source": [
    "plt.figure(figsize=(10, 6))"
   ]
  },
  {
   "cell_type": "code",
   "execution_count": null,
   "id": "ab0ca543",
   "metadata": {},
   "outputs": [],
   "source": [
    "vehicle_colors = {"
   ]
  },
  {
   "cell_type": "markdown",
   "id": "a3ac12ea",
   "metadata": {},
   "source": [
    "'Mediumfamilycar': 'blue',"
   ]
  },
  {
   "cell_type": "markdown",
   "id": "ea372d23",
   "metadata": {},
   "source": [
    "'Smallfamiliycar': 'orange',"
   ]
  },
  {
   "cell_type": "markdown",
   "id": "1e9f907e",
   "metadata": {},
   "source": [
    "'Supperminicar': 'red',"
   ]
  },
  {
   "cell_type": "markdown",
   "id": "0c2a532a",
   "metadata": {},
   "source": [
    "'Sports': 'yellow',"
   ]
  },
  {
   "cell_type": "markdown",
   "id": "c32d8569",
   "metadata": {},
   "source": [
    "'Executivecar': 'black'}"
   ]
  },
  {
   "cell_type": "code",
   "execution_count": null,
   "id": "8f84ef84",
   "metadata": {},
   "outputs": [],
   "source": [
    "sns.lineplot("
   ]
  },
  {
   "cell_type": "code",
   "execution_count": null,
   "id": "4429b4df",
   "metadata": {},
   "outputs": [],
   "source": [
    "data=df_rec,"
   ]
  },
  {
   "cell_type": "code",
   "execution_count": null,
   "id": "ac1ae776",
   "metadata": {},
   "outputs": [],
   "source": [
    "x='unemployment_rate',"
   ]
  },
  {
   "cell_type": "code",
   "execution_count": null,
   "id": "99648cc9",
   "metadata": {},
   "outputs": [],
   "source": [
    "y='Automobile_Sales',"
   ]
  },
  {
   "cell_type": "code",
   "execution_count": null,
   "id": "e38bf157",
   "metadata": {},
   "outputs": [],
   "source": [
    "hue='Vehicle_Type',"
   ]
  },
  {
   "cell_type": "code",
   "execution_count": null,
   "id": "1df21266",
   "metadata": {},
   "outputs": [],
   "source": [
    "style='Vehicle_Type',"
   ]
  },
  {
   "cell_type": "code",
   "execution_count": null,
   "id": "813b2b39",
   "metadata": {},
   "outputs": [],
   "source": [
    "markers='o',"
   ]
  },
  {
   "cell_type": "code",
   "execution_count": null,
   "id": "1ea1b5d5",
   "metadata": {},
   "outputs": [],
   "source": [
    "err_style=None,"
   ]
  },
  {
   "cell_type": "code",
   "execution_count": null,
   "id": "5a02af95",
   "metadata": {},
   "outputs": [],
   "source": [
    "palette = vehicle_colors"
   ]
  },
  {
   "cell_type": "markdown",
   "id": "74aced34",
   "metadata": {},
   "source": [
    ")"
   ]
  },
  {
   "cell_type": "code",
   "execution_count": null,
   "id": "ee724ce6",
   "metadata": {},
   "outputs": [],
   "source": [
    "plt.ylim(0, 850)"
   ]
  },
  {
   "cell_type": "code",
   "execution_count": null,
   "id": "16b72616",
   "metadata": {},
   "outputs": [],
   "source": [
    "plt.xlabel('Unemployment Rate')"
   ]
  },
  {
   "cell_type": "code",
   "execution_count": null,
   "id": "f79dc306",
   "metadata": {},
   "outputs": [],
   "source": [
    "plt.ylabel('Automobile Sales')"
   ]
  },
  {
   "cell_type": "code",
   "execution_count": null,
   "id": "04c5e2af",
   "metadata": {},
   "outputs": [],
   "source": [
    "plt.title('Effect of Unemployment Rate on Vehicle Type and Sales')"
   ]
  },
  {
   "cell_type": "code",
   "execution_count": null,
   "id": "7fdf70d7",
   "metadata": {},
   "outputs": [],
   "source": [
    "plt.legend(loc=(0.05, 0.3))"
   ]
  },
  {
   "cell_type": "code",
   "execution_count": null,
   "id": "5d38d74e",
   "metadata": {},
   "outputs": [],
   "source": [
    "plt.show()"
   ]
  },
  {
   "cell_type": "markdown",
   "id": "875ff580",
   "metadata": {},
   "source": [
    "Except for the sport cars whose sales got lower as the umemployment rate higher, the other vehicle type has no consistence trend."
   ]
  },
  {
   "cell_type": "markdown",
   "id": "39de0fda",
   "metadata": {},
   "source": [
    "Create a map on the hightest sales region/offices of the company during recession period"
   ]
  },
  {
   "cell_type": "code",
   "execution_count": null,
   "id": "9d2be664",
   "metadata": {},
   "outputs": [],
   "source": [
    "def download(url, filename):"
   ]
  },
  {
   "cell_type": "code",
   "execution_count": null,
   "id": "837eba36",
   "metadata": {},
   "outputs": [],
   "source": [
    "response = requests.get(url)"
   ]
  },
  {
   "cell_type": "code",
   "execution_count": null,
   "id": "604ae22d",
   "metadata": {},
   "outputs": [],
   "source": [
    "if response.status_code == 200:"
   ]
  },
  {
   "cell_type": "markdown",
   "id": "13ec6932",
   "metadata": {},
   "source": [
    "with open(filename, \"wb\") as f:"
   ]
  },
  {
   "cell_type": "markdown",
   "id": "c5af20a1",
   "metadata": {},
   "source": [
    "f.write(response.content)"
   ]
  },
  {
   "cell_type": "code",
   "execution_count": null,
   "id": "4c776198",
   "metadata": {},
   "outputs": [],
   "source": [
    "path = 'https://cf-courses-data.s3.us.cloud-object-storage.appdomain.cloud/IBMDeveloperSkillsNetwork-DV0101EN-SkillsNetwork/Data%20Files/us-states.json'"
   ]
  },
  {
   "cell_type": "markdown",
   "id": "b8bd2556",
   "metadata": {},
   "source": [
    "download(path, \"us-states.json\")"
   ]
  },
  {
   "cell_type": "code",
   "execution_count": null,
   "id": "eed9ef7d",
   "metadata": {},
   "outputs": [],
   "source": [
    "# Filter the data for the recession period and specific cities"
   ]
  },
  {
   "cell_type": "code",
   "execution_count": null,
   "id": "a7e869a1",
   "metadata": {},
   "outputs": [],
   "source": [
    "recession_data = df[df['Recession'] == 1]"
   ]
  },
  {
   "cell_type": "code",
   "execution_count": null,
   "id": "b63ee1da",
   "metadata": {},
   "outputs": [],
   "source": [
    "# Calculate the total sales by city"
   ]
  },
  {
   "cell_type": "code",
   "execution_count": null,
   "id": "c12686d6",
   "metadata": {},
   "outputs": [],
   "source": [
    "sales_by_city = recession_data.groupby('City')['Automobile_Sales'].sum().reset_index()"
   ]
  },
  {
   "cell_type": "code",
   "execution_count": null,
   "id": "3b7b48e4",
   "metadata": {},
   "outputs": [],
   "source": [
    "# Create a base map centered on the United States"
   ]
  },
  {
   "cell_type": "code",
   "execution_count": null,
   "id": "34c19296",
   "metadata": {},
   "outputs": [],
   "source": [
    "map1 = folium.Map(location=[37.0902, -95.7129], zoom_start=4)"
   ]
  },
  {
   "cell_type": "code",
   "execution_count": null,
   "id": "26226bb6",
   "metadata": {},
   "outputs": [],
   "source": [
    "# Create a choropleth layer using Folium"
   ]
  },
  {
   "cell_type": "code",
   "execution_count": null,
   "id": "80a9131c",
   "metadata": {},
   "outputs": [],
   "source": [
    "choropleth = folium.Choropleth("
   ]
  },
  {
   "cell_type": "code",
   "execution_count": null,
   "id": "fbd8c7e3",
   "metadata": {},
   "outputs": [],
   "source": [
    "geo_data= 'us-states.json',  # GeoJSON file with state boundaries"
   ]
  },
  {
   "cell_type": "code",
   "execution_count": null,
   "id": "be1c6349",
   "metadata": {},
   "outputs": [],
   "source": [
    "data=sales_by_city,"
   ]
  },
  {
   "cell_type": "code",
   "execution_count": null,
   "id": "03259045",
   "metadata": {},
   "outputs": [],
   "source": [
    "columns=['City', 'Automobile_Sales'],"
   ]
  },
  {
   "cell_type": "code",
   "execution_count": null,
   "id": "fb2978b3",
   "metadata": {},
   "outputs": [],
   "source": [
    "key_on='feature.properties.name',"
   ]
  },
  {
   "cell_type": "code",
   "execution_count": null,
   "id": "0611ad67",
   "metadata": {},
   "outputs": [],
   "source": [
    "fill_color='YlOrRd',"
   ]
  },
  {
   "cell_type": "code",
   "execution_count": null,
   "id": "2513c8c5",
   "metadata": {},
   "outputs": [],
   "source": [
    "fill_opacity=0.7,"
   ]
  },
  {
   "cell_type": "code",
   "execution_count": null,
   "id": "21b07a52",
   "metadata": {},
   "outputs": [],
   "source": [
    "line_opacity=0.2,"
   ]
  },
  {
   "cell_type": "code",
   "execution_count": null,
   "id": "025686ce",
   "metadata": {},
   "outputs": [],
   "source": [
    "legend_name='Automobile Sales during Recession'"
   ]
  },
  {
   "cell_type": "markdown",
   "id": "bbf86584",
   "metadata": {},
   "source": [
    ").add_to(map1)"
   ]
  },
  {
   "cell_type": "code",
   "execution_count": null,
   "id": "51000030",
   "metadata": {},
   "outputs": [],
   "source": [
    "# Add tooltips to the choropleth layer"
   ]
  },
  {
   "cell_type": "markdown",
   "id": "e69f4831",
   "metadata": {},
   "source": [
    "choropleth.geojson.add_child("
   ]
  },
  {
   "cell_type": "code",
   "execution_count": null,
   "id": "6ab98190",
   "metadata": {},
   "outputs": [],
   "source": [
    "folium.features.GeoJsonTooltip(['name'], labels=True)"
   ]
  },
  {
   "cell_type": "markdown",
   "id": "704b4068",
   "metadata": {},
   "source": [
    ")"
   ]
  },
  {
   "cell_type": "code",
   "execution_count": null,
   "id": "92950895",
   "metadata": {},
   "outputs": [],
   "source": [
    "# Display the map"
   ]
  },
  {
   "cell_type": "markdown",
   "id": "bed16ba4",
   "metadata": {},
   "source": [
    "map1"
   ]
  }
 ],
 "metadata": {},
 "nbformat": 4,
 "nbformat_minor": 5
}
