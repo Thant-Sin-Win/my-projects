{
 "cells": [
  {
   "cell_type": "markdown",
   "id": "4d818710-d158-40c8-8141-6b15fd4e0f08",
   "metadata": {},
   "source": [
    "# 📊 Automobile Sales Analysis During Recession Periods\n",
    "\n",
    "This notebook explores historical trends in automobile sales, particularly during recessionary periods. Using a dataset that includes variables like GDP, unemployment rate, vehicle price, consumer confidence, and advertising expenditure, we aim to understand how economic downturns affected the automotive industry.\n",
    "\n",
    "---\n",
    "\n",
    "### 🕰 Recession Periods Considered:\n",
    "1. 1980\n",
    "2. 1981–1982\n",
    "3. 1991\n",
    "4. 2000–2001\n",
    "5. Late 2007 to mid-2009\n",
    "6. Sep–Dec 2020 (COVID-19 impact)\n",
    "\n",
    "---\n",
    "\n",
    "### 📁 Dataset Overview:\n",
    "| Feature | Description |\n",
    "|--------|-------------|\n",
    "| `Date` | Monthly timestamp |\n",
    "| `Recession` | Binary flag (1 = Recession, 0 = Non-recession) |\n",
    "| `Automobile_Sales` | Monthly vehicle sales |\n",
    "| `GDP` | Per capita GDP (USD) |\n",
    "| `Unemployment_Rate` | Unemployment rate (%) |\n",
    "| `Consumer_Confidence` | Index of consumer sentiment |\n",
    "| `Seasonality_Weight` | Seasonal adjustment factor |\n",
    "| `Price` | Average vehicle price |\n",
    "| `Advertising_Expenditure` | Monthly ad spending |\n",
    "| `Vehicle_Type` | Type of vehicle sold |\n",
    "| `Competition` | Market competitiveness |\n",
    "| `Month`, `Year` | Extracted from the `Date` column |\n",
    "\n",
    "---"
   ]
  },
  {
   "cell_type": "code",
   "execution_count": null,
   "id": "9a98072d-3d8b-4334-af5d-285990f88c65",
   "metadata": {},
   "outputs": [],
   "source": [
    "# Install required libraries\n",
    "%pip install seaborn\n",
    "%pip install folium"
   ]
  },
  {
   "cell_type": "code",
   "execution_count": null,
   "id": "a4bbe607-4e10-46b2-b4ab-3f70fb6b7c8c",
   "metadata": {},
   "outputs": [],
   "source": [
    "# Import essential libraries\n",
    "import numpy as np\n",
    "import pandas as pd\n",
    "%matplotlib inline\n",
    "import matplotlib.pyplot as plt\n",
    "import seaborn as sns\n",
    "import folium\n",
    "import requests\n",
    "import io\n",
    "\n",
    "print(\"Libraries successfully imported.\")"
   ]
  },
  {
   "cell_type": "code",
   "execution_count": null,
   "id": "8f2abad3-8632-4adc-bd87-3845d1386e97",
   "metadata": {},
   "outputs": [],
   "source": [
    "# Download the dataset from a remote server\n",
    "URL = \"https://cf-courses-data.s3.us.cloud-object-storage.appdomain.cloud/IBMDeveloperSkillsNetwork-DV0101EN-SkillsNetwork/Data%20Files/historical_automobile_sales.csv\"\n",
    "\n",
    "response = requests.get(URL)\n",
    "response.raise_for_status()  # Raise error for bad response\n",
    "\n",
    "# Load CSV data into a pandas DataFrame\n",
    "df = pd.read_csv(io.StringIO(response.text))\n",
    "print(\"Dataset loaded into DataFrame.\")"
   ]
  },
  {
   "cell_type": "code",
   "execution_count": null,
   "id": "0f1a22c0-bd84-4488-8cf6-5fa4ba1e2e59",
   "metadata": {},
   "outputs": [],
   "source": [
    "# Display the first few rows of the dataset\n",
    "df.head()"
   ]
  },
  {
   "cell_type": "markdown",
   "id": "0d883998-1d91-46ec-abcd-74dd5996b9c0",
   "metadata": {},
   "source": [
    "## 📈 Yearly Sales Trend\n",
    "\n",
    "This line plot shows how average annual automobile sales have fluctuated over time. This view helps visualize the broader market trends, especially across recession periods."
   ]
  },
  {
   "cell_type": "code",
   "execution_count": null,
   "id": "36f46ca0-0a43-4b5b-bfd5-5733f2895e1d",
   "metadata": {},
   "outputs": [],
   "source": [
    "# Calculate yearly average sales\n",
    "yearly_sales = df.groupby('Year')['Automobile_Sales'].mean()\n",
    "\n",
    "# Plot the yearly sales trend\n",
    "plt.figure(figsize=(10, 6))\n",
    "yearly_sales.plot()\n",
    "plt.title('Yearly Automobile Sales')\n",
    "plt.xlabel('Year')\n",
    "plt.ylabel('Average Sales')\n",
    "plt.grid(True)\n",
    "plt.show()"
   ]
  },
  {
   "cell_type": "markdown",
   "id": "e940b0cb-1ae2-44fb-a540-1c4a206f5f5a",
   "metadata": {},
   "source": [
    "## 📉 Automobile Sales with Recession Highlights\n",
    "\n",
    "This plot overlays recession annotations on top of the yearly sales trend to observe any dips during recession years."
   ]
  },
  {
   "cell_type": "code",
   "execution_count": null,
   "id": "8737bed0-f243-4e42-b4a0-3b4e8388519e",
   "metadata": {},
   "outputs": [],
   "source": [
    "plt.figure(figsize=(10, 6))\n",
    "yearly_sales.plot()\n",
    "plt.xticks(list(range(1980, 2024)), rotation=75)\n",
    "plt.xlabel('Year')\n",
    "plt.ylabel('Total Automobile Sales')\n",
    "plt.title('Automobile Sales During Recession Periods')\n",
    "\n",
    "# Annotate specific recessions\n",
    "plt.text(1982, yearly_sales.get(1982, 0) + 100, '1981–82 Recession')\n",
    "plt.text(2009, yearly_sales.get(2009, 0) + 100, '2008–09 Recession')\n",
    "\n",
    "plt.legend(['Total Sales'])\n",
    "plt.show()"
   ]
  },
  {
   "cell_type": "markdown",
   "id": "baea5076-0e27-4c63-a3e1-c7c1ffcbd3d0",
   "metadata": {},
   "source": [
    "## 🚗 Vehicle Type Sales Trends During Recession\n",
    "\n",
    "This line plot compares normalized sales trends of different vehicle types during recession years. Normalization allows us to focus on **relative changes**, making trends easier to compare across vehicle types with varying base sales levels."
   ]
  },
  {
   "cell_type": "code",
   "execution_count": null,
   "id": "a84d5f44-627c-4370-a805-a1e88e138775",
   "metadata": {},
   "outputs": [],
   "source": [
    "# Filter the data for recession periods only\n",
    "df_rec = df[df['Recession'] == 1]\n",
    "\n",
    "# Calculate average sales by vehicle type and year\n",
    "df_Mline = df_rec.groupby(['Year', 'Vehicle_Type'], as_index=False)['Automobile_Sales'].mean()\n",
    "\n",
    "# Normalize sales by vehicle type (relative to mean)\n",
    "df_Mline['Normalized_Sales'] = df_Mline.groupby('Vehicle_Type')['Automobile_Sales'].transform(lambda x: x / x.mean())\n",
    "\n",
    "# Set 'Year' as index for plotting\n",
    "df_Mline.set_index('Year', inplace=True)\n",
    "\n",
    "# Define colors for each vehicle type\n",
    "vehicle_colors = {\n",
    "    'Mediumfamilycar': 'blue',\n",
    "    'Smallfamiliycar': 'orange',\n",
    "    'Supperminicar': 'red',\n",
    "    'Sports': 'yellow',\n",
    "    'Executivecar': 'black',\n",
    "}\n",
    "\n",
    "# Plot normalized sales trends\n",
    "plt.figure(figsize=(12, 8))\n",
    "for vehicle_type in df_Mline['Vehicle_Type'].unique():\n",
    "    data = df_Mline[df_Mline['Vehicle_Type'] == vehicle_type]\n",
    "    color = vehicle_colors.get(vehicle_type, 'black')\n",
    "    plt.plot(data.index, data['Normalized_Sales'], label=vehicle_type, marker='o', color=color)\n",
    "\n",
    "# Add vertical lines for recession years\n",
    "recession_years = df_rec['Year'].unique()\n",
    "for year in recession_years:\n",
    "    plt.axvline(x=year, color='gray', linestyle='--', alpha=0.5)\n",
    "\n",
    "plt.title(\"Normalized Automobile Sales by Vehicle Type During Recession\")\n",
    "plt.xlabel(\"Year\")\n",
    "plt.ylabel(\"Normalized Sales\")\n",
    "plt.legend(title=\"Vehicle Type\", bbox_to_anchor=(1.05, 1), loc='upper left')\n",
    "plt.tight_layout()\n",
    "plt.show()"
   ]
  },
  {
   "cell_type": "markdown",
   "id": "275266f0-cf67-45c8-b4f6-bb1001a364bc",
   "metadata": {},
   "source": [
    "### 📌 Insight:\n",
    "\n",
    "- **Sports cars** showed relatively **stable or increasing** sales during recessions.\n",
    "- **Supermini cars** experienced a **noticeable drop**.\n",
    "- **Family cars** showed **fluctuating patterns**, with no consistent direction.\n",
    "- **Executive cars** had **very low or no sales**, except a spike in 1991.\n",
    "\n",
    "These trends suggest consumers likely favored practical or luxury-free options during economic downturns."
   ]
  },
  {
   "cell_type": "markdown",
   "id": "c8d71da2-578b-44d3-8e78-203cdd0c4254",
   "metadata": {},
   "source": [
    "## 📊 Vehicle-Wise Sales: Recession vs Non-Recession\n",
    "\n",
    "We compare the **average automobile sales** for each vehicle type across recession and non-recession periods to assess which segments were most impacted.\n"
   ]
  },
  {
   "cell_type": "code",
   "execution_count": null,
   "id": "5e092937-15c8-4c0a-8361-12c21b5536e4",
   "metadata": {},
   "outputs": [],
   "source": [
    "\n",
    "new_df = df.groupby(['Recession', 'Vehicle_Type'])['Automobile_Sales'].mean().reset_index()\n",
    "\n",
    "plt.figure(figsize=(12, 8))\n",
    "\n",
    "sns.barplot(x='Vehicle_Type', y='Automobile_Sales', hue='Recession', data=new_df)\n",
    "\n",
    "plt.xlabel('Vehicle Type')\n",
    "plt.ylabel('Average Automobile Sales')\n",
    "plt.title('Average Automobile Sales during Recession and Non-Recession')\n",
    "\n",
    "plt.xticks(rotation=45)\n",
    "\n",
    "plt.tight_layout()\n",
    "plt.show()"
   ]
  },
  {
   "cell_type": "code",
   "execution_count": null,
   "id": "cf6c1193-7a85-4321-a515-a261bb162d92",
   "metadata": {},
   "outputs": [],
   "source": [
    "# Group by recession status and vehicle type\n",
    "dd = df.groupby(['Recession', 'Vehicle_Type'])['Automobile_Sales'].mean().reset_index()\n",
    "\n",
    "# Bar plot using seaborn\n",
    "plt.figure(figsize=(12, 8))\n",
    "sns.barplot(x='Recession', y='Automobile_Sales', hue='Vehicle_Type', data=dd)\n",
    "\n",
    "plt.xticks(ticks=[0, 1], labels=['Non-Recession', 'Recession'])\n",
    "plt.xlabel('Economic Condition')\n",
    "plt.ylabel('Average Automobile Sales')\n",
    "plt.title('Vehicle-Wise Sales During Recession and Non-Recession Periods')\n",
    "plt.tight_layout()\n",
    "plt.show()"
   ]
  },
  {
   "cell_type": "markdown",
   "id": "a742fed3-857e-4170-bb06-9b480b035b91",
   "metadata": {},
   "source": [
    "### 📌 Insight:\n",
    "\n",
    "As expected, there is a **general decline in sales** during recession years. Notably, **sports cars** faced the sharpest drop—likely due to their status as non-essential luxury goods."
   ]
  },
  {
   "cell_type": "markdown",
   "id": "9a04a6ec-6bd1-4cd7-af5c-09f097842898",
   "metadata": {},
   "source": [
    "## 💸 GDP Variation: Recession vs Non-Recession\n",
    "\n",
    "This subplot compares GDP trends over time, separately for recession and non-recession periods. It helps evaluate how GDP levels correlate with dips in vehicle sales."
   ]
  },
  {
   "cell_type": "code",
   "execution_count": null,
   "id": "7a083a37-e0bd-4d13-8d4a-da61841b9553",
   "metadata": {},
   "outputs": [],
   "source": [
    "# Split data into recession and non-recession subsets\n",
    "rec_data = df[df['Recession'] == 1]\n",
    "non_rec_data = df[df['Recession'] == 0]\n",
    "\n",
    "# Create subplots\n",
    "fig = plt.figure(figsize=(14, 6))\n",
    "ax0 = fig.add_subplot(1, 2, 1)\n",
    "ax1 = fig.add_subplot(1, 2, 2)\n",
    "\n",
    "# Line plot for GDP during recession\n",
    "sns.lineplot(x='Year', y='GDP', data=rec_data, ax=ax0)\n",
    "ax0.set_title('GDP During Recession Periods')\n",
    "ax0.set_xlabel('Year')\n",
    "ax0.set_ylabel('GDP')\n",
    "\n",
    "# Line plot for GDP during non-recession\n",
    "sns.lineplot(x='Year', y='GDP', data=non_rec_data, ax=ax1)\n",
    "ax1.set_title('GDP During Non-Recession Periods')\n",
    "ax1.set_xlabel('Year')\n",
    "ax1.set_ylabel('GDP')\n",
    "\n",
    "# Add vertical lines for recession years\n",
    "for year in rec_data['Year'].unique():\n",
    "    ax0.axvline(x=year, color='gray', linestyle='--', alpha=0.5)\n",
    "    ax1.axvline(x=year, color='gray', linestyle='--', alpha=0.5)\n",
    "\n",
    "plt.tight_layout()\n",
    "plt.show()"
   ]
  },
  {
   "cell_type": "markdown",
   "id": "cb09e124-ac4d-40bc-b810-77f0b155da15",
   "metadata": {},
   "source": [
    "### 📌 Insight:\n",
    "\n",
    "GDP levels were generally **lower and more volatile** during recession periods, especially in 2008–2009 and 2020. This economic contraction likely influenced reduced automobile purchases."
   ]
  },
  {
   "cell_type": "markdown",
   "id": "f5bd56ae-4253-4ead-9c3e-035be5a16f1e",
   "metadata": {},
   "source": [
    "## 📅 Seasonality and Automobile Sales\n",
    "\n",
    "This bubble plot analyzes how **seasonal variation** impacts monthly sales during **non-recession periods**. Bubble"
   ]
  },
  {
   "cell_type": "code",
   "execution_count": null,
   "id": "5d68c19c-63da-4d35-b40f-f51a98eedd4e",
   "metadata": {},
   "outputs": [],
   "source": [
    "# Filter data for non-recession periods\n",
    "non_rec_data = df[df['Recession'] == 0]\n",
    "\n",
    "# Create bubble plot\n",
    "plt.figure(figsize=(12, 6))\n",
    "sns.scatterplot(\n",
    "    data=non_rec_data,\n",
    "    x='Month',\n",
    "    y='Automobile_Sales',\n",
    "    size='Seasonality_Weight',\n",
    "    hue='Seasonality_Weight',\n",
    "    sizes=(100, 1000),\n",
    "    palette='coolwarm',\n",
    "    legend=False\n",
    ")\n",
    "\n",
    "# Customize plot\n",
    "plt.xlabel('Month')\n",
    "plt.ylabel('Automobile Sales')\n",
    "plt.title('Seasonality Impact on Automobile Sales (Non-Recession Period)')\n",
    "plt.grid(True)\n",
    "plt.tight_layout()\n",
    "plt.show()"
   ]
  },
  {
   "cell_type": "markdown",
   "id": "fc5a4a96-1309-4140-a87e-8d21f493b4cf",
   "metadata": {},
   "source": [
    "### 📌 Insight:\n",
    "\n",
    "The plot shows **no strong monthly seasonality pattern** in non-recession years. However, there is a drastic raise in sales in the month of April."
   ]
  },
  {
   "cell_type": "markdown",
   "id": "d0b9b5c4-2467-40be-b40a-cdd800b5c33d",
   "metadata": {},
   "source": [
    "## 💬 Impact of Consumer Confidence on Sales (Recession Only)\n",
    "\n",
    "A scatter plot to understand whether **consumer sentiment** (confidence index) correlates with automobile sales during **recession years**."
   ]
  },
  {
   "cell_type": "code",
   "execution_count": null,
   "id": "3ba63aeb-5f9c-426c-9fcc-346bd8d46ff9",
   "metadata": {},
   "outputs": [],
   "source": [
    "# Filter data for recession years\n",
    "rec_data = df[df['Recession'] == 1]\n",
    "\n",
    "# Scatter plot: Consumer Confidence vs Sales\n",
    "plt.figure(figsize=(10, 6))\n",
    "plt.scatter(rec_data['Consumer_Confidence'], rec_data['Automobile_Sales'], color='blue', alpha=0.6)\n",
    "\n",
    "plt.xlabel('Consumer Confidence')\n",
    "plt.ylabel('Automobile Sales')\n",
    "plt.title('Consumer Confidence vs Automobile Sales (Recession)')\n",
    "plt.grid(True)\n",
    "plt.tight_layout()\n",
    "plt.show()"
   ]
  },
  {
   "cell_type": "markdown",
   "id": "f4c65289-f9a2-45f2-8417-ca0d70b1051c",
   "metadata": {},
   "source": [
    "### 📌 Insight:\n",
    "\n",
    "The relationship appears weak. Consumer confidence **alone may not be a strong predictor** of sales during recession periods, though extreme lows could impact big-ticket spending."
   ]
  },
  {
   "cell_type": "markdown",
   "id": "3ca72543-dcf7-447b-9806-521f96804f34",
   "metadata": {},
   "source": [
    "## 💲 Vehicle Price and Sales Volume Relationship\n",
    "\n",
    "Here we examine whether higher vehicle prices discourage sales volume during recession periods."
   ]
  },
  {
   "cell_type": "code",
   "execution_count": null,
   "id": "9315c77f-f00c-48dc-b5e8-c9103fc23898",
   "metadata": {},
   "outputs": [],
   "source": [
    "# Scatter plot: Price vs Sales\n",
    "plt.figure(figsize=(10, 6))\n",
    "plt.scatter(rec_data['Price'], rec_data['Automobile_Sales'], color='green', alpha=0.6)\n",
    "\n",
    "plt.xlabel('Average Vehicle Price')\n",
    "plt.ylabel('Automobile Sales')\n",
    "plt.title('Vehicle Price vs Automobile Sales (Recession)')\n",
    "plt.tight_layout()\n",
    "plt.show()"
   ]
  },
  {
   "cell_type": "markdown",
   "id": "f34279e8-fccc-4e5c-a62a-4c9514a84d99",
   "metadata": {},
   "source": [
    "### 📌 Insight:\n",
    "\n",
    "There is **no strong correlation** between price and sales in this plot—suggesting that **other factors** like unemployment, consumer sentiment, or advertising may play a more important role during recessions."
   ]
  },
  {
   "cell_type": "markdown",
   "id": "eab8f427-ec86-4d92-ba85-05b8eced1115",
   "metadata": {},
   "source": [
    "## 📢 Advertising Spend: Recession vs Non-Recession\n",
    "\n",
    "This pie chart shows how much XYZAutomotives invested in advertisements across economic conditions."
   ]
  },
  {
   "cell_type": "code",
   "execution_count": null,
   "id": "70db5fae-5764-440e-b3ec-23ddc3b08035",
   "metadata": {},
   "outputs": [],
   "source": [
    "# Split data by economic condition\n",
    "Rdata = df[df['Recession'] == 1]\n",
    "NRdata = df[df['Recession'] == 0]\n",
    "\n",
    "# Calculate total advertising expenditure\n",
    "RAtotal = Rdata['Advertising_Expenditure'].sum()\n",
    "NRAtotal = NRdata['Advertising_Expenditure'].sum()\n",
    "\n",
    "# Plot pie chart\n",
    "plt.figure(figsize=(8, 6))\n",
    "plt.pie(\n",
    "    [RAtotal, NRAtotal],\n",
    "    labels=['Recession', 'Non-Recession'],\n",
    "    autopct='%1.1f%%',\n",
    "    startangle=90,\n",
    "    colors=['lightcoral', 'lightgreen']\n",
    ")\n",
    "\n",
    "plt.title('Advertising Expenditure: Recession vs Non-Recession')\n",
    "plt.axis('equal')  # Keeps pie chart circular\n",
    "plt.show()"
   ]
  },
  {
   "cell_type": "markdown",
   "id": "640b8f0f-c40f-4aee-9891-c6be11d7f4e9",
   "metadata": {},
   "source": [
    "### 📌 Insight:\n",
    "\n",
    "XYZAutomotives **significantly reduced ad spend during recession**—a common business strategy to cut costs during economic contractions."
   ]
  },
  {
   "cell_type": "markdown",
   "id": "7ea339aa-f9b4-4a22-9796-55f9942248f3",
   "metadata": {},
   "source": [
    "## 🚘 Advertising by Vehicle Type (Recession)\n",
    "\n",
    "Here we break down how advertising funds were allocated across vehicle types **during recession periods only**."
   ]
  },
  {
   "cell_type": "code",
   "execution_count": null,
   "id": "44a81368-ecc5-4339-b310-410e57715505",
   "metadata": {},
   "outputs": [],
   "source": [
    "# Group advertising expenditure by vehicle type\n",
    "VTexpenditure = Rdata.groupby('Vehicle_Type')['Advertising_Expenditure'].sum()\n",
    "\n",
    "# Pie chart for advertising by vehicle type\n",
    "plt.figure(figsize=(8, 6))\n",
    "plt.pie(VTexpenditure.values, labels=VTexpenditure.index, autopct='%1.1f%%', startangle=90)\n",
    "\n",
    "plt.title('Vehicle-Type Wise Advertising Expenditure During Recession')\n",
    "plt.axis('equal')\n",
    "plt.show()"
   ]
  },
  {
   "cell_type": "markdown",
   "id": "976cf549-cf67-4d2b-b421-ffc8a22e7584",
   "metadata": {},
   "source": [
    "### 📌 Insight:\n",
    "\n",
    "During recession years, most ad budgets were directed toward **more affordable, lower-end vehicles**, which aligns with consumer demand for cost-effective options in tough times."
   ]
  },
  {
   "cell_type": "markdown",
   "id": "85b5133e-405d-48b3-854f-93632ac7ee21",
   "metadata": {},
   "source": [
    "## 📉 Effect of Unemployment Rate on Vehicle Sales (Recession Only)\n",
    "\n",
    "This line plot shows how sales for different vehicle types correlate with unemployment levels during recession years."
   ]
  },
  {
   "cell_type": "code",
   "execution_count": null,
   "id": "c9e7a55d-b866-4f86-9b2e-4bcabf10f1e1",
   "metadata": {},
   "outputs": [],
   "source": [
    "# Filter data for recession period\n",
    "df_rec = df[df['Recession'] == 1]\n",
    "\n",
    "# Define consistent color palette\n",
    "vehicle_colors = {\n",
    "    'Mediumfamilycar': 'blue',\n",
    "    'Smallfamiliycar': 'orange',\n",
    "    'Supperminicar': 'red',\n",
    "    'Sports': 'yellow',\n",
    "    'Executivecar': 'black'\n",
    "}\n",
    "\n",
    "# Create lineplot using seaborn\n",
    "plt.figure(figsize=(10, 6))\n",
    "sns.lineplot(\n",
    "    data=df_rec,\n",
    "    x='unemployment_rate',\n",
    "    y='Automobile_Sales',\n",
    "    hue='Vehicle_Type',\n",
    "    style='Vehicle_Type',\n",
    "    markers='o',\n",
    "    err_style=None,\n",
    "    palette=vehicle_colors\n",
    ")\n",
    "\n",
    "# Customize chart\n",
    "plt.ylim(0, 850)\n",
    "plt.xlabel('Unemployment Rate (%)')\n",
    "plt.ylabel('Automobile Sales')\n",
    "plt.title('Effect of Unemployment Rate on Vehicle Sales During Recession')\n"
   ]
  },
  {
   "cell_type": "markdown",
   "id": "c59c9639-820a-4e69-9bbc-1a6bd6e7bf97",
   "metadata": {},
   "source": [
    "### 📌 Insight:\n",
    "\n",
    "- **Sports car sales decline sharply** with higher unemployment—likely due to their luxury status.\n",
    "- Other vehicle types show **inconsistent or minimal patterns**, indicating that unemployment may not be the sole factor influencing sales in those segments."
   ]
  },
  {
   "cell_type": "markdown",
   "id": "6dbf4bfa-aa21-47d4-9853-9cec52493425",
   "metadata": {},
   "source": [
    "## 🗺️ Top Sales Regions During Recession (Map View)\n",
    "\n",
    "This interactive choropleth map displays total automobile sales across U.S. states during recession years."
   ]
  },
  {
   "cell_type": "code",
   "execution_count": null,
   "id": "9acb0286-d744-458c-8d2b-d82b04fcdf65",
   "metadata": {},
   "outputs": [],
   "source": [
    "import json\n",
    "\n",
    "# Define download function\n",
    "def download(url, filename):\n",
    "    response = requests.get(url)\n",
    "    if response.status_code == 200:\n",
    "        with open(filename, \"wb\") as f:\n",
    "            f.write(response.content)\n",
    "\n",
    "# Download US states geojson\n",
    "path = 'https://cf-courses-data.s3.us.cloud-object-storage.appdomain.cloud/IBMDeveloperSkillsNetwork-DV0101EN-SkillsNetwork/Data%20Files/us-states.json'\n",
    "download(path, \"us-states.json\")\n",
    "\n",
    "# Prepare recession data by city/state\n",
    "recession_data = df[df['Recession'] == 1]\n",
    "\n",
    "# Group by city (or use 'State' if available in the dataset)\n",
    "sales_by_city = recession_data.groupby('City')['Automobile_Sales'].sum().reset_index()\n",
    "\n",
    "# Create base map\n",
    "map1 = folium.Map(location=[37.0902, -95.7129], zoom_start=4)\n",
    "\n",
    "# Create choropleth layer\n",
    "choropleth = folium.Choropleth(\n",
    "    geo_data='us-states.json',\n",
    "    data=sales_by_city,\n",
    "    columns=['City', 'Automobile_Sales'],\n",
    "    key_on='feature.properties.name',  # Match GeoJSON key\n",
    "    fill_color='YlOrRd',\n",
    "    fill_opacity=0.7,\n",
    "    line_opacity=0.2,\n",
    "    legend_name='Automobile Sales During Recession'\n",
    ").add_to(map1)\n",
    "\n",
    "# Add hover tooltip\n",
    "choropleth.geojson.add_child(\n",
    "    folium.features.GeoJsonTooltip(['name'], labels=True)\n",
    ")\n",
    "\n",
    "# Display the map\n",
    "map1"
   ]
  },
  {
   "cell_type": "code",
   "execution_count": null,
   "id": "5a867a18-7c02-4b81-988b-d1db158f1900",
   "metadata": {},
   "outputs": [],
   "source": []
  }
 ],
 "metadata": {
  "kernelspec": {
   "display_name": "Python 3 (ipykernel)",
   "language": "python",
   "name": "python3"
  },
  "language_info": {
   "codemirror_mode": {
    "name": "ipython",
    "version": 3
   },
   "file_extension": ".py",
   "mimetype": "text/x-python",
   "name": "python",
   "nbconvert_exporter": "python",
   "pygments_lexer": "ipython3",
   "version": "3.13.3"
  }
 },
 "nbformat": 4,
 "nbformat_minor": 5
}
