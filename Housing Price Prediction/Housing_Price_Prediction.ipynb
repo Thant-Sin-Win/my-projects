{
 "cells": [
  {
   "cell_type": "markdown",
   "id": "090146e0",
   "metadata": {},
   "source": [
    "# Housing Price Prediction\n",
    "\n",
    "### Objective\n",
    "As a Data Analyst working at a Real Estate Investment Trust, I was tasked with predicting housing prices using data science techniques. The goal is to determine the market price of a house given a set of features such as square footage, number of bedrooms, bathrooms, floors, and other relevant attributes."
   ]
  },
  {
   "cell_type": "markdown",
   "id": "322a9970",
   "metadata": {},
   "source": [
    "## 1. Import Libraries and Setup"
   ]
  },
  {
   "cell_type": "code",
   "execution_count": null,
   "id": "00d748ad",
   "metadata": {},
   "outputs": [],
   "source": [
    "def warn(*args, **kwargs):\n",
    "    pass\n",
    "import warnings\n",
    "warnings.warn = warn\n",
    "import piplite\n",
    "await piplite.install('seaborn')\n",
    "\n",
    "import pandas as pd\n",
    "import matplotlib.pyplot as plt\n",
    "import numpy as np\n",
    "import seaborn as sns\n",
    "from sklearn.pipeline import Pipeline\n",
    "from sklearn.preprocessing import StandardScaler,PolynomialFeatures\n",
    "from sklearn.linear_model import LinearRegression\n",
    "%matplotlib inline\n",
    "from pyodide.http import pyfetch"
   ]
  },
  {
   "cell_type": "markdown",
   "id": "43e83783",
   "metadata": {},
   "source": [
    "## 2. Download and Load Data"
   ]
  },
  {
   "cell_type": "code",
   "execution_count": null,
   "id": "f26c99db",
   "metadata": {},
   "outputs": [],
   "source": [
    "async def download(url, filename):\n",
    "    response = await pyfetch(url)\n",
    "    if response.status == 200:\n",
    "        with open(filename, \"wb\") as f:\n",
    "            f.write(await response.bytes())\n",
    "\n",
    "filepath='https://cf-courses-data.s3.us.cloud-object-storage.appdomain.cloud/IBMDeveloperSkillsNetwork-DA0101EN-SkillsNetwork/labs/FinalModule_Coursera/data/kc_house_data_NaN.csv'\n",
    "await download(filepath, \"housing.csv\")\n",
    "file_name=\"housing.csv\"\n",
    "df = pd.read_csv(file_name)\n",
    "df.head()"
   ]
  },
  {
   "cell_type": "markdown",
   "id": "7450e348",
   "metadata": {},
   "source": [
    "## 3. Data Cleaning and Exploration"
   ]
  },
  {
   "cell_type": "code",
   "execution_count": null,
   "id": "f5ff1427",
   "metadata": {},
   "outputs": [],
   "source": [
    "df.drop(['id', 'Unnamed: 0'], axis=1, inplace=True)\n",
    "print(\"number of NaN values for the column bedrooms:\", df['bedrooms'].isnull().sum())\n",
    "print(\"number of NaN values for the column bathrooms:\", df['bathrooms'].isnull().sum())\n",
    "df['bedrooms'].replace(np.nan, df['bedrooms'].mean(), inplace=True)\n",
    "df['bathrooms'].replace(np.nan, df['bathrooms'].mean(), inplace=True)\n",
    "print(\"number of NaN values for the column bedrooms:\", df['bedrooms'].isnull().sum())\n",
    "print(\"number of NaN values for the column bathrooms:\", df['bathrooms'].isnull().sum())"
   ]
  },
  {
   "cell_type": "markdown",
   "id": "cd45448f",
   "metadata": {},
   "source": [
    "## 4. Exploratory Data Analysis"
   ]
  },
  {
   "cell_type": "code",
   "execution_count": null,
   "id": "39ab4b65",
   "metadata": {},
   "outputs": [],
   "source": [
    "sns.boxplot(x='waterfront', y='price', data=df)\n",
    "plt.title('Price Distribution for House With/ Without Waterfront View')\n",
    "plt.xlabel('Waterfront View (0 = No, 1 = Yes)')\n",
    "plt.ylabel('Price')\n",
    "plt.show()"
   ]
  },
  {
   "cell_type": "code",
   "execution_count": null,
   "id": "3fe9b3d4",
   "metadata": {},
   "outputs": [],
   "source": [
    "sns.regplot(x='sqft_above', y='price', data=df)\n",
    "plt.title('Regression Plot: sqft_above vs price')\n",
    "plt.xlabel('Square Footage above Ground Level')\n",
    "plt.ylabel('Price')\n",
    "plt.show()"
   ]
  },
  {
   "cell_type": "markdown",
   "id": "cae325ad",
   "metadata": {},
   "source": [
    "## 5. Correlation and Simple Linear Regression"
   ]
  },
  {
   "cell_type": "code",
   "execution_count": null,
   "id": "3a7d013a",
   "metadata": {},
   "outputs": [],
   "source": [
    "df_numeric = df.select_dtypes(include=[np.number])\n",
    "df_numeric.corr()['price'].sort_values()"
   ]
  },
  {
   "cell_type": "code",
   "execution_count": null,
   "id": "98c965ac",
   "metadata": {},
   "outputs": [],
   "source": [
    "X = df[['sqft_living']]\n",
    "Y = df['price']\n",
    "ln = LinearRegression()\n",
    "ln.fit(X, Y)\n",
    "ln.score(X, Y)"
   ]
  },
  {
   "cell_type": "markdown",
   "id": "744d4655",
   "metadata": {},
   "source": [
    "## 6. Multiple Linear Regression"
   ]
  },
  {
   "cell_type": "code",
   "execution_count": null,
   "id": "86e330df",
   "metadata": {},
   "outputs": [],
   "source": [
    "features = [\"floors\", \"waterfront\", \"lat\", \"bedrooms\", \"sqft_basement\", \"view\", \"bathrooms\",\n",
    "            \"sqft_living15\", \"sqft_above\", \"grade\", \"sqft_living\"]\n",
    "X = df[features]\n",
    "Y = df['price']\n",
    "ln = LinearRegression()\n",
    "ln.fit(X, Y)\n",
    "ln.score(X, Y)"
   ]
  },
  {
   "cell_type": "markdown",
   "id": "0d3de37e",
   "metadata": {},
   "source": [
    "## 7. Pipeline with Polynomial Features"
   ]
  },
  {
   "cell_type": "code",
   "execution_count": null,
   "id": "9da791de",
   "metadata": {},
   "outputs": [],
   "source": [
    "Input = [('scale', StandardScaler()),\n",
    "         ('polynomial', PolynomialFeatures(include_bias=False)),\n",
    "         ('model', LinearRegression())]\n",
    "pipeline = Pipeline(Input)\n",
    "pipeline.fit(X, Y)\n",
    "pipeline.score(X, Y)"
   ]
  },
  {
   "cell_type": "markdown",
   "id": "d388e666",
   "metadata": {},
   "source": [
    "## 8. Ridge Regression with Polynomial Features"
   ]
  },
  {
   "cell_type": "code",
   "execution_count": null,
   "id": "4170c83c",
   "metadata": {},
   "outputs": [],
   "source": [
    "from sklearn.model_selection import train_test_split\n",
    "from sklearn.linear_model import Ridge\n",
    "from sklearn.metrics import r2_score\n",
    "\n",
    "x_train, x_test, y_train, y_test = train_test_split(X, Y, test_size=0.15, random_state=1)\n",
    "ridge_model = Ridge(alpha=0.1)\n",
    "ridge_model.fit(x_train, y_train)\n",
    "print(\"R^2 on test data (Linear):\", ridge_model.score(x_test, y_test))"
   ]
  },
  {
   "cell_type": "code",
   "execution_count": null,
   "id": "31096f40",
   "metadata": {},
   "outputs": [],
   "source": [
    "poly = PolynomialFeatures(degree=2, include_bias=False)\n",
    "x_train_poly = poly.fit_transform(x_train)\n",
    "x_test_poly = poly.transform(x_test)\n",
    "\n",
    "ridge_model.fit(x_train_poly, y_train)\n",
    "y_pred = ridge_model.predict(x_test_poly)\n",
    "r2 = r2_score(y_test, y_pred)\n",
    "print('R^2 score on Test Data (Polynomial + Ridge):', r2)"
   ]
  }
 ],
 "metadata": {},
 "nbformat": 4,
 "nbformat_minor": 5
}
